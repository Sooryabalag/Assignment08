{
  "nbformat": 4,
  "nbformat_minor": 0,
  "metadata": {
    "colab": {
      "provenance": []
    },
    "kernelspec": {
      "name": "python3",
      "display_name": "Python 3"
    },
    "language_info": {
      "name": "python"
    }
  },
  "cells": [
    {
      "cell_type": "code",
      "execution_count": 13,
      "metadata": {
        "id": "0JeiBSB8P00T"
      },
      "outputs": [],
      "source": [
        "import pandas as pd\n",
        "import numpy as np\n",
        "from sklearn.model_selection import train_test_split\n",
        "from sklearn.preprocessing import LabelEncoder\n",
        "from tensorflow.keras.preprocessing.text import Tokenizer\n",
        "from tensorflow.keras.preprocessing.sequence import pad_sequences\n",
        "from tensorflow.keras.models import Sequential\n",
        "from tensorflow.keras.layers import Embedding, LSTM, Dense\n",
        "\n"
      ]
    },
    {
      "cell_type": "code",
      "source": [
        "from sklearn.model_selection import train_test_split\n",
        "from sklearn.feature_extraction.text import TfidfVectorizer\n",
        "from sklearn.naive_bayes import MultinomialNB\n",
        "from sklearn.metrics import accuracy_score\n",
        "import pandas as pd"
      ],
      "metadata": {
        "id": "juSLiESARnRx"
      },
      "execution_count": 15,
      "outputs": []
    },
    {
      "cell_type": "code",
      "source": [
        "!pip install chardet"
      ],
      "metadata": {
        "colab": {
          "base_uri": "https://localhost:8080/"
        },
        "id": "ifvYHOpkR9yF",
        "outputId": "097db573-ed19-4adf-9492-763651113658"
      },
      "execution_count": 20,
      "outputs": [
        {
          "output_type": "stream",
          "name": "stdout",
          "text": [
            "Requirement already satisfied: chardet in /usr/local/lib/python3.10/dist-packages (5.2.0)\n"
          ]
        }
      ]
    },
    {
      "cell_type": "code",
      "source": [
        "import chardet\n",
        "\n",
        "with open(\"/content/judge_tweet_product_company.csv\", 'rb') as f:\n",
        "    encoding = chardet.detect(f.read())['encoding']\n",
        "\n",
        "data = pd.read_csv(\"/content/judge_tweet_product_company.csv\", encoding=encoding)"
      ],
      "metadata": {
        "id": "VNydjai_SFDQ"
      },
      "execution_count": 22,
      "outputs": []
    },
    {
      "cell_type": "code",
      "source": [
        "data = pd.read_csv(\"/content/judge_tweet_product_company.csv\", encoding='latin-1')"
      ],
      "metadata": {
        "id": "8sPSWdc9SK7C"
      },
      "execution_count": 23,
      "outputs": []
    },
    {
      "cell_type": "code",
      "source": [
        "print(data.head())"
      ],
      "metadata": {
        "colab": {
          "base_uri": "https://localhost:8080/"
        },
        "id": "GEo3Z2HiSN71",
        "outputId": "ae209c59-21ee-4271-d644-74439fc0731a"
      },
      "execution_count": 25,
      "outputs": [
        {
          "output_type": "stream",
          "name": "stdout",
          "text": [
            "                                          tweet_text  \\\n",
            "0  .@wesley83 I have a 3G iPhone. After 3 hrs twe...   \n",
            "1  @jessedee Know about @fludapp ? Awesome iPad/i...   \n",
            "2  @swonderlin Can not wait for #iPad 2 also. The...   \n",
            "3  @sxsw I hope this year's festival isn't as cra...   \n",
            "4  @sxtxstate great stuff on Fri #SXSW: Marissa M...   \n",
            "\n",
            "  emotion_in_tweet_is_directed_at  \\\n",
            "0                          iPhone   \n",
            "1              iPad or iPhone App   \n",
            "2                            iPad   \n",
            "3              iPad or iPhone App   \n",
            "4                          Google   \n",
            "\n",
            "  is_there_an_emotion_directed_at_a_brand_or_product  \n",
            "0                                   Negative emotion  \n",
            "1                                   Positive emotion  \n",
            "2                                   Positive emotion  \n",
            "3                                   Negative emotion  \n",
            "4                                   Positive emotion  \n"
          ]
        }
      ]
    },
    {
      "cell_type": "code",
      "source": [
        "# Check the column names of the DataFrame\n",
        "print(df.columns)\n",
        "\n",
        "# View the first few rows of the DataFrame\n",
        "print(df.head())\n",
        "\n",
        "# Drop the column if it exists\n",
        "if 'emotion_in_tweet_is_directed_at' in df.columns:\n",
        "    df = df.drop(columns=['emotion_in_tweet_is_directed_at'])\n",
        "else:\n",
        "    print(\"The column 'emotion_in_tweet_is_directed_at' does not exist in the DataFrame.\")"
      ],
      "metadata": {
        "colab": {
          "base_uri": "https://localhost:8080/"
        },
        "id": "rhMTbXhYSent",
        "outputId": "573cea38-96a0-4706-ff0b-8e31fb6226d6"
      },
      "execution_count": 29,
      "outputs": [
        {
          "output_type": "stream",
          "name": "stdout",
          "text": [
            "Index(['tweet_text', 'is_there_an_emotion_directed_at_a_brand_or_product'], dtype='object')\n",
            "                                          tweet_text  \\\n",
            "0  .@wesley83 I have a 3G iPhone. After 3 hrs twe...   \n",
            "1  @jessedee Know about @fludapp ? Awesome iPad/i...   \n",
            "2  @swonderlin Can not wait for #iPad 2 also. The...   \n",
            "3  @sxsw I hope this year's festival isn't as cra...   \n",
            "4  @sxtxstate great stuff on Fri #SXSW: Marissa M...   \n",
            "\n",
            "  is_there_an_emotion_directed_at_a_brand_or_product  \n",
            "0                                   Negative emotion  \n",
            "1                                   Positive emotion  \n",
            "2                                   Positive emotion  \n",
            "3                                   Negative emotion  \n",
            "4                                   Positive emotion  \n",
            "The column 'emotion_in_tweet_is_directed_at' does not exist in the DataFrame.\n"
          ]
        }
      ]
    },
    {
      "cell_type": "code",
      "source": [
        "data.columns"
      ],
      "metadata": {
        "colab": {
          "base_uri": "https://localhost:8080/"
        },
        "id": "6P_f0j5hTJvW",
        "outputId": "7cc86646-5433-4ce4-e448-e340f802b5e6"
      },
      "execution_count": 33,
      "outputs": [
        {
          "output_type": "execute_result",
          "data": {
            "text/plain": [
              "Index(['tweet_text', 'emotion_in_tweet_is_directed_at',\n",
              "       'is_there_an_emotion_directed_at_a_brand_or_product'],\n",
              "      dtype='object')"
            ]
          },
          "metadata": {},
          "execution_count": 33
        }
      ]
    },
    {
      "cell_type": "code",
      "source": [
        "df = df[['tweet_text', 'is_there_an_emotion_directed_at_a_brand_or_product']]\n"
      ],
      "metadata": {
        "id": "BgvP7iiBUT0f"
      },
      "execution_count": 35,
      "outputs": []
    },
    {
      "cell_type": "code",
      "source": [
        "# Remove rows with missing values\n",
        "df = df.dropna()\n"
      ],
      "metadata": {
        "id": "vER0ZHuhTNYX"
      },
      "execution_count": 37,
      "outputs": []
    },
    {
      "cell_type": "code",
      "source": [
        "# Preprocess the text data\n",
        "tokenizer = Tokenizer()\n",
        "tokenizer.fit_on_texts(df['tweet_text'])\n",
        "sequences = tokenizer.texts_to_sequences(df['tweet_text'])\n",
        "word_index = tokenizer.word_index\n",
        "max_sequence_length = max(len(seq) for seq in sequences)\n",
        "padded_sequences = pad_sequences(sequences, maxlen=max_sequence_length)\n"
      ],
      "metadata": {
        "id": "VDW23y34Ua8e"
      },
      "execution_count": 38,
      "outputs": []
    },
    {
      "cell_type": "code",
      "source": [
        "# Encode labels\n",
        "label_encoder = LabelEncoder()\n",
        "df['label'] = label_encoder.fit_transform(df['is_there_an_emotion_directed_at_a_brand_or_product'])\n"
      ],
      "metadata": {
        "id": "quvTh7-lUgre"
      },
      "execution_count": 40,
      "outputs": []
    },
    {
      "cell_type": "code",
      "source": [
        "# Split the dataset into training and testing sets\n",
        "X_train, X_test, y_train, y_test = train_test_split(padded_sequences, df['label'], test_size=0.2, random_state=42)\n"
      ],
      "metadata": {
        "id": "ygv4FtokUkmv"
      },
      "execution_count": 42,
      "outputs": []
    },
    {
      "cell_type": "code",
      "source": [
        "# Build the model\n",
        "model = Sequential()\n",
        "model.add(Embedding(len(word_index) + 1, 100, input_length=max_sequence_length))\n",
        "model.add(LSTM(100))\n",
        "model.add(Dense(1, activation='sigmoid'))\n"
      ],
      "metadata": {
        "id": "qyFE3EI9UnUe"
      },
      "execution_count": 44,
      "outputs": []
    },
    {
      "cell_type": "code",
      "source": [
        "# Compile the model\n",
        "model.compile(loss='binary_crossentropy', optimizer='adam', metrics=['accuracy'])\n"
      ],
      "metadata": {
        "id": "x48ILA-DUq_8"
      },
      "execution_count": 46,
      "outputs": []
    },
    {
      "cell_type": "code",
      "source": [
        "# Train the model\n",
        "model.fit(X_train, y_train, epochs=10, batch_size=64, validation_split=0.2)\n"
      ],
      "metadata": {
        "colab": {
          "base_uri": "https://localhost:8080/"
        },
        "id": "yl5fX8_UUt7F",
        "outputId": "b31adf12-b711-44ef-c3d1-d5bbda02ea6d"
      },
      "execution_count": 47,
      "outputs": [
        {
          "output_type": "stream",
          "name": "stdout",
          "text": [
            "Epoch 1/10\n",
            "91/91 [==============================] - 12s 103ms/step - loss: -15.5490 - accuracy: 0.0617 - val_loss: -25.4102 - val_accuracy: 0.0591\n",
            "Epoch 2/10\n",
            "91/91 [==============================] - 8s 86ms/step - loss: -31.6376 - accuracy: 0.0624 - val_loss: -37.5580 - val_accuracy: 0.0591\n",
            "Epoch 3/10\n",
            "91/91 [==============================] - 9s 98ms/step - loss: -43.5951 - accuracy: 0.0624 - val_loss: -49.2316 - val_accuracy: 0.0591\n",
            "Epoch 4/10\n",
            "91/91 [==============================] - 9s 95ms/step - loss: -55.3646 - accuracy: 0.0624 - val_loss: -61.1501 - val_accuracy: 0.0591\n",
            "Epoch 5/10\n",
            "91/91 [==============================] - 8s 85ms/step - loss: -67.2115 - accuracy: 0.0624 - val_loss: -72.7129 - val_accuracy: 0.0591\n",
            "Epoch 6/10\n",
            "91/91 [==============================] - 9s 98ms/step - loss: -78.7278 - accuracy: 0.0624 - val_loss: -84.1108 - val_accuracy: 0.0591\n",
            "Epoch 7/10\n",
            "91/91 [==============================] - 9s 101ms/step - loss: -90.1269 - accuracy: 0.0624 - val_loss: -95.3967 - val_accuracy: 0.0591\n",
            "Epoch 8/10\n",
            "91/91 [==============================] - 9s 102ms/step - loss: -101.4504 - accuracy: 0.0624 - val_loss: -106.6426 - val_accuracy: 0.0591\n",
            "Epoch 9/10\n",
            "91/91 [==============================] - 9s 99ms/step - loss: -112.7249 - accuracy: 0.0624 - val_loss: -117.8440 - val_accuracy: 0.0591\n",
            "Epoch 10/10\n",
            "91/91 [==============================] - 9s 98ms/step - loss: -123.9712 - accuracy: 0.0624 - val_loss: -128.9746 - val_accuracy: 0.0591\n"
          ]
        },
        {
          "output_type": "execute_result",
          "data": {
            "text/plain": [
              "<keras.src.callbacks.History at 0x7ebfb75a2aa0>"
            ]
          },
          "metadata": {},
          "execution_count": 47
        }
      ]
    },
    {
      "cell_type": "code",
      "source": [
        "# Evaluate the model\n",
        "loss, accuracy = model.evaluate(X_test, y_test)\n",
        "print(\"Test Loss:\", loss)\n",
        "print(\"Test Accuracy:\", accuracy)\n"
      ],
      "metadata": {
        "colab": {
          "base_uri": "https://localhost:8080/"
        },
        "id": "3ZRRjCNHVK6t",
        "outputId": "c487b843-27ba-4fe8-cd11-ab77f33900e5"
      },
      "execution_count": 49,
      "outputs": [
        {
          "output_type": "stream",
          "name": "stdout",
          "text": [
            "57/57 [==============================] - 1s 17ms/step - loss: -130.3331 - accuracy: 0.0665\n",
            "Test Loss: -130.3330841064453\n",
            "Test Accuracy: 0.06652006506919861\n"
          ]
        }
      ]
    }
  ]
}